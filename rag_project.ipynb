{
 "cells": [
  {
   "cell_type": "code",
   "execution_count": 1,
   "metadata": {},
   "outputs": [],
   "source": [
    "from langchain.document_loaders import DirectoryLoader\n",
    "\n",
    "from langchain_text_splitters import RecursiveCharacterTextSplitter\n",
    "from langchain_community.embeddings import OllamaEmbeddings\n",
    "import chromadb\n",
    "from langchain.prompts import ChatPromptTemplate\n",
    "from langchain_community.llms.ollama import Ollama"
   ]
  },
  {
   "cell_type": "code",
   "execution_count": 2,
   "metadata": {},
   "outputs": [],
   "source": [
    "loader = DirectoryLoader('Data', glob=\"**/*.txt\")\n",
    "docs = loader.load()"
   ]
  },
  {
   "cell_type": "code",
   "execution_count": 3,
   "metadata": {},
   "outputs": [],
   "source": [
    "embeddings = OllamaEmbeddings(model=\"llama3.1\")"
   ]
  },
  {
   "cell_type": "code",
   "execution_count": 4,
   "metadata": {},
   "outputs": [],
   "source": [
    "text_splitter = RecursiveCharacterTextSplitter(\n",
    "    chunk_size=200,\n",
    "    chunk_overlap=20,\n",
    "    length_function=len,\n",
    "    is_separator_regex=False,)"
   ]
  },
  {
   "cell_type": "code",
   "execution_count": 5,
   "metadata": {},
   "outputs": [],
   "source": [
    "document = text_splitter.split_documents(docs)"
   ]
  },
  {
   "cell_type": "code",
   "execution_count": 6,
   "metadata": {},
   "outputs": [
    {
     "data": {
      "text/plain": [
       "[Document(metadata={'source': 'Data\\\\data1.txt'}, page_content='Step into our Tuscan-inspired sanctuary, where the golden hues of sun-kissed landscapes and the earthy aromas of olive groves and vineyards set the stage for a memorable dining experience. Tuscany,'),\n",
       " Document(metadata={'source': 'Data\\\\data1.txt'}, page_content='Tuscany, renowned for its breathtaking countryside and rich culinary heritage, offers a bounty of flavors and traditions to explore.'),\n",
       " Document(metadata={'source': 'Data\\\\data1.txt'}, page_content='Begin your journey with an antipasto platter adorned with cured meats, aged cheeses, and marinated vegetables, reminiscent of leisurely gatherings under the Tuscan sun. Each bite tells a story of'),\n",
       " Document(metadata={'source': 'Data\\\\data1.txt'}, page_content='tells a story of generations past, of farmers and artisans who have perfected their craft over centuries.'),\n",
       " Document(metadata={'source': 'Data\\\\data1.txt'}, page_content='Indulge in classics like Ribollita, a hearty vegetable soup enriched with cannellini beans and Tuscan kale. This comforting dish, born out of frugality and resourcefulness, warms both body and soul,'),\n",
       " Document(metadata={'source': 'Data\\\\data1.txt'}, page_content='both body and soul, offering a taste of Tuscan tradition with every spoonful.'),\n",
       " Document(metadata={'source': 'Data\\\\data1.txt'}, page_content='Alternatively, savor the simplicity of Cacciucco, a rustic seafood stew brimming with the bounty of the Mediterranean. With its roots firmly planted in coastal communities, this dish celebrates the'),\n",
       " Document(metadata={'source': 'Data\\\\data1.txt'}, page_content=\"dish celebrates the region's abundant seafood while paying homage to the fishermen who have sustained generations with their daily catch.\"),\n",
       " Document(metadata={'source': 'Data\\\\data1.txt'}, page_content='As you dine, let the flavors of Tuscany transport you to a simpler time, where meals were savored slowly and each ingredient was cherished for its role in creating culinary magic. From the fields to'),\n",
       " Document(metadata={'source': 'Data\\\\data1.txt'}, page_content='From the fields to the table, every aspect of Tuscan cuisine speaks to a deep connection to the land and a reverence for the ingredients that define it.'),\n",
       " Document(metadata={'source': 'Data\\\\data1.txt'}, page_content=\"Soak in the essence of Tuscany as you sip on a glass of Chianti, the region's iconic red wine, and let the spirit of la dolce vita wash over you. At Bella Vista, our Tuscan-inspired menu invites you\"),\n",
       " Document(metadata={'source': 'Data\\\\data1.txt'}, page_content='menu invites you to experience the true essence of Italian hospitality, where every dish is a celebration of tradition, flavor, and the timeless beauty of Tuscany.'),\n",
       " Document(metadata={'source': 'Data\\\\data1.txt'}, page_content='Chapter 2: Flavors of Sicily'),\n",
       " Document(metadata={'source': 'Data\\\\data1.txt'}, page_content='Transport yourself to the vibrant island of Sicily, where the mingling of diverse cultures has birthed a culinary landscape as bold and colorful as its landscapes. From the bustling markets of'),\n",
       " Document(metadata={'source': 'Data\\\\data1.txt'}, page_content='bustling markets of Palermo to the sun-drenched shores of Taormina, Sicily offers a feast for the senses unlike any other.'),\n",
       " Document(metadata={'source': 'Data\\\\data1.txt'}, page_content='Dive into a sea of flavors with Arancini, golden orbs of saffron-infused risotto stuffed with savory ragù and molten cheese. These indulgent delights, often enjoyed as street food or appetizers,'),\n",
       " Document(metadata={'source': 'Data\\\\data1.txt'}, page_content=\"food or appetizers, showcase Sicily's love affair with rice and its penchant for bold, robust flavors.\"),\n",
       " Document(metadata={'source': 'Data\\\\data1.txt'}, page_content=\"Alternatively, sample the delights of Caponata, a sweet and sour eggplant relish bursting with tomatoes, olives, and capers. This versatile dish, with its roots in Arab cuisine, reflects Sicily's\"),\n",
       " Document(metadata={'source': 'Data\\\\data1.txt'}, page_content=\"reflects Sicily's rich history of culinary conquests, where each bite tells a story of cultural exchange and innovation.\"),\n",
       " Document(metadata={'source': 'Data\\\\data1.txt'}, page_content=\"For mains, indulge in Pasta alla Norma, a Sicilian classic marrying silky eggplant, rich tomato sauce, and salty ricotta salata. Named after Bellini's famous opera, this dish is a tribute to Sicily's\"),\n",
       " Document(metadata={'source': 'Data\\\\data1.txt'}, page_content=\"tribute to Sicily's artistic soul, where food and culture intertwine in a symphony of flavors.\"),\n",
       " Document(metadata={'source': 'Data\\\\data1.txt'}, page_content='Alternatively, savor the robust flavors of Swordfish Involtini, tender fish rolls filled with breadcrumbs, pine nuts, and raisins, bathed in a fragrant tomato sauce. This dish, with its blend of'),\n",
       " Document(metadata={'source': 'Data\\\\data1.txt'}, page_content=\"with its blend of sweet and savory elements, captures the essence of Sicily's coastal cuisine, where seafood reigns supreme.\"),\n",
       " Document(metadata={'source': 'Data\\\\data1.txt'}, page_content='As you dine, let the flavors of Sicily transport you to a land of ancient ruins and vibrant cities, where the past and present collide in a kaleidoscope of flavor and tradition. At Bella Vista, our'),\n",
       " Document(metadata={'source': 'Data\\\\data1.txt'}, page_content='At Bella Vista, our Sicilian-inspired menu invites you to experience the bold, colorful cuisine of this enchanting island, where every dish is a celebration of Sicilian spirit and hospitality.'),\n",
       " Document(metadata={'source': 'Data\\\\data1.txt'}, page_content='Chapter 3: Venetian Elegance'),\n",
       " Document(metadata={'source': 'Data\\\\data1.txt'}, page_content=\"Embrace the romance and charm of Venice with our menu inspired by the city's culinary heritage and maritime traditions. From the labyrinthine streets of the historic center to the tranquil waters of\"),\n",
       " Document(metadata={'source': 'Data\\\\data1.txt'}, page_content='tranquil waters of the Grand Canal, Venice offers a feast for the senses unlike any other.'),\n",
       " Document(metadata={'source': 'Data\\\\data1.txt'}, page_content='Start your culinary voyage with Cicchetti, bite-sized Venetian snacks bursting with flavor, from creamy bacalà mantecato to delicate baccalà fritters. These small but flavorful bites, often enjoyed'),\n",
       " Document(metadata={'source': 'Data\\\\data1.txt'}, page_content=\"often enjoyed with a glass of local wine, showcase Venice's love affair with seafood and its talent for transforming simple ingredients into culinary masterpieces.\"),\n",
       " Document(metadata={'source': 'Data\\\\data1.txt'}, page_content='For a taste of the sea, delve into Risotto al Nero di Seppia, a luxurious black squid ink risotto crowned with plump shrimp and tender calamari. This iconic Venetian dish, with its dramatic color and'),\n",
       " Document(metadata={'source': 'Data\\\\data1.txt'}, page_content=\"dramatic color and rich, briny flavor, captures the essence of the city's maritime heritage, where seafood has always played a central role in the local cuisine.\"),\n",
       " Document(metadata={'source': 'Data\\\\data1.txt'}, page_content='Alternatively, indulge in Risi e Bisi, a comforting risotto enriched with sweet peas and savory pancetta. This simple yet satisfying dish, often enjoyed during the spring months, celebrates the'),\n",
       " Document(metadata={'source': 'Data\\\\data1.txt'}, page_content=\"celebrates the bounty of the Venetian lagoon and the region's rich agricultural heritage.\"),\n",
       " Document(metadata={'source': 'Data\\\\data1.txt'}, page_content='Complete your Venetian feast with a decadent slice of Tiramisu, the quintessential Italian dessert that translates to \"pick me up.\" This heavenly confection, with its layers of espresso-soaked'),\n",
       " Document(metadata={'source': 'Data\\\\data1.txt'}, page_content='of espresso-soaked ladyfingers, creamy mascarpone, and dusting of cocoa powder, is a fitting finale to a meal that lifts the spirits and satisfies the soul.'),\n",
       " Document(metadata={'source': 'Data\\\\data1.txt'}, page_content='As you dine, let the flavors of Venice transport you to a city of timeless beauty and unparalleled elegance, where each dish is a testament to the ingenuity and creativity of Venetian cuisine. At'),\n",
       " Document(metadata={'source': 'Data\\\\data1.txt'}, page_content=\"cuisine. At Bella Vista, our Venetian-inspired menu invites you to experience the magic of Venice, where every bite is a journey through the city's rich culinary heritage and maritime traditions.\"),\n",
       " Document(metadata={'source': 'Data\\\\data1.txt'}, page_content='Chapter 4: Roman Revival'),\n",
       " Document(metadata={'source': 'Data\\\\data1.txt'}, page_content=\"In the eternal city of Rome, ancient traditions blend seamlessly with modern flair, resulting in a culinary landscape that's as timeless as it is tantalizing. From the majestic ruins of the Colosseum\"),\n",
       " Document(metadata={'source': 'Data\\\\data1.txt'}, page_content='of the Colosseum to the bustling streets of Trastevere, Rome offers a feast for the senses unlike any other.'),\n",
       " Document(metadata={'source': 'Data\\\\data1.txt'}, page_content=\"Begin your Roman odyssey with Supplì al Telefono, golden rice croquettes oozing with molten mozzarella. These irresistible snacks, often enjoyed as street food or appetizers, showcase Rome's love\"),\n",
       " Document(metadata={'source': 'Data\\\\data1.txt'}, page_content=\"Rome's love affair with rice and its talent for transforming humble ingredients into culinary delights.\"),\n",
       " Document(metadata={'source': 'Data\\\\data1.txt'}, page_content='Alternatively, savor the simplicity of Carciofi alla Romana, tender artichokes simmered in fragrant herbs and olive oil. This classic Roman dish, with its delicate flavors and melt-in-your-mouth'),\n",
       " Document(metadata={'source': 'Data\\\\data1.txt'}, page_content=\"melt-in-your-mouth texture, is a testament to the city's rich culinary heritage and its love affair with fresh, seasonal produce.\"),\n",
       " Document(metadata={'source': 'Data\\\\data1.txt'}, page_content='For a taste of la dolce vita, feast on Cacio e Pepe, a decadent pasta dish featuring al dente spaghetti coated in a velvety sauce of Pecorino Romano and black pepper. This iconic Roman dish, with its'),\n",
       " Document(metadata={'source': 'Data\\\\data1.txt'}, page_content='dish, with its bold flavors and comforting simplicity, captures the essence of Roman cuisine, where the beauty lies in the purity of the ingredients and the skill of the chef.'),\n",
       " Document(metadata={'source': 'Data\\\\data1.txt'}, page_content='Alternatively, indulge in Saltimbocca alla Romana, tender veal cutlets wrapped in prosciutto and sage, sautéed to perfection in a white wine sauce. This iconic Roman dish, with its bold flavors and'),\n",
       " Document(metadata={'source': 'Data\\\\data1.txt'}, page_content=\"bold flavors and elegant presentation, is a testament to the city's rich culinary heritage and its love affair with the art of cooking.\"),\n",
       " Document(metadata={'source': 'Data\\\\data1.txt'}, page_content='As you dine, let the flavors of Rome transport you to a city of ancient wonders and modern marvels, where each dish is a celebration of tradition, flavor, and the eternal spirit of la dolce vita. At'),\n",
       " Document(metadata={'source': 'Data\\\\data1.txt'}, page_content=\"la dolce vita. At Bella Vista, our Roman-inspired menu invites you to experience the magic of Rome, where every bite is a journey through the city's rich culinary heritage and timeless traditions.\"),\n",
       " Document(metadata={'source': 'Data\\\\data1.txt'}, page_content='Chapter 5: Neapolitan Soul'),\n",
       " Document(metadata={'source': 'Data\\\\data1.txt'}, page_content='Journey to the sun-drenched shores of Naples, where the air is filled with the intoxicating scent of wood-fired pizzas and the joyful strains of Neapolitan melodies. From the bustling streets of'),\n",
       " Document(metadata={'source': 'Data\\\\data1.txt'}, page_content='bustling streets of Spaccanapoli to the tranquil waters of the Bay of Naples, Naples offers a feast for the senses unlike any other.'),\n",
       " Document(metadata={'source': 'Data\\\\data1.txt'}, page_content='Begin your culinary escapade with a selection of Antipasti Napoletani, featuring delights like fried calamari, stuffed peppers, and marinated anchovies. These vibrant and flavorful starters, often'),\n",
       " Document(metadata={'source': 'Data\\\\data1.txt'}, page_content=\"starters, often enjoyed with a glass of local wine, showcase Naples' love affair with seafood and its talent for transforming simple ingredients into culinary masterpieces.\"),\n",
       " Document(metadata={'source': 'Data\\\\data1.txt'}, page_content='For mains, delight your palate with Pizza Margherita, the iconic Neapolitan pie adorned with vibrant tomatoes, creamy mozzarella, and fragrant basil. This classic Neapolitan dish, with its crispy'),\n",
       " Document(metadata={'source': 'Data\\\\data1.txt'}, page_content=\"with its crispy crust and melty cheese, captures the essence of Naples' culinary heritage and its love affair with pizza.\"),\n",
       " Document(metadata={'source': 'Data\\\\data1.txt'}, page_content='Alternatively, indulge in Spaghetti alla Puttanesca, a fiery pasta dish bursting with the bold flavors of olives, capers, and anchovies. This iconic Neapolitan dish, with its robust flavors and'),\n",
       " Document(metadata={'source': 'Data\\\\data1.txt'}, page_content=\"robust flavors and vibrant colors, is a testament to the city's rich culinary heritage and its love affair with bold, Mediterranean flavors.\"),\n",
       " Document(metadata={'source': 'Data\\\\data1.txt'}, page_content='End your meal on a sweet note with a slice of Pastiera Napoletana, a heavenly ricotta and wheat pie perfumed with orange blossom water and adorned with candied citrus. This iconic Neapolitan dessert,'),\n",
       " Document(metadata={'source': 'Data\\\\data1.txt'}, page_content='Neapolitan dessert, with its delicate flavors and rich textures, is a fitting finale to a meal that celebrates the soulful flavors of Naples.'),\n",
       " Document(metadata={'source': 'Data\\\\data1.txt'}, page_content='As you dine, let the flavors of Naples transport you to a city of vibrant colors and rich flavors, where each dish is a celebration of tradition, flavor, and the soulful spirit of Neapolitan cuisine.'),\n",
       " Document(metadata={'source': 'Data\\\\data1.txt'}, page_content=\"Neapolitan cuisine. At Bella Vista, our Neapolitan-inspired menu invites you to experience the magic of Naples, where every bite is a journey through the city's rich culinary heritage and joyful\"),\n",
       " Document(metadata={'source': 'Data\\\\data1.txt'}, page_content='heritage and joyful traditions.'),\n",
       " Document(metadata={'source': 'Data\\\\data2.txt'}, page_content='In the bustling streets of Naples, where the aroma of freshly baked pizza mingles with the salty breeze of the Mediterranean, Giovanni Di Napoli was born into a world steeped in culinary tradition.'),\n",
       " Document(metadata={'source': 'Data\\\\data2.txt'}, page_content=\"culinary tradition. From an early age, Giovanni's passion for food was ignited by his Nonna Rosa, whose rustic kitchen served as the heart of their family gatherings, filled with laughter, love, and\"),\n",
       " Document(metadata={'source': 'Data\\\\data2.txt'}, page_content='laughter, love, and the irresistible scent of simmering sauces.'),\n",
       " Document(metadata={'source': 'Data\\\\data2.txt'}, page_content=\"Giovanni's upbringing was deeply rooted in the rich tapestry of Neapolitan culture, where food wasn't merely sustenance but a sacred ritual—a celebration of life itself. His Nonna's culinary prowess,\"),\n",
       " Document(metadata={'source': 'Data\\\\data2.txt'}, page_content='culinary prowess, coupled with the vibrant markets of Naples, instilled in him a profound appreciation for fresh, locally sourced ingredients and the time-honored techniques that transformed them'),\n",
       " Document(metadata={'source': 'Data\\\\data2.txt'}, page_content='transformed them into culinary masterpieces.'),\n",
       " Document(metadata={'source': 'Data\\\\data2.txt'}, page_content='Chapter 1: Roots of Inspiration'),\n",
       " Document(metadata={'source': 'Data\\\\data2.txt'}, page_content=\"Born into a family of artisans and craftsmen, Giovanni's childhood was a symphony of sights, sounds, and flavors—a vibrant mosaic of Neapolitan culture that shaped his culinary journey from the very\"),\n",
       " Document(metadata={'source': 'Data\\\\data2.txt'}, page_content=\"from the very beginning. From helping his Nonna knead dough for homemade pasta to accompanying his Nonno to the bustling markets of Naples, Giovanni's early years were steeped in the traditions and\"),\n",
       " Document(metadata={'source': 'Data\\\\data2.txt'}, page_content='the traditions and rituals that would later define his approach to cooking.'),\n",
       " Document(metadata={'source': 'Data\\\\data2.txt'}, page_content=\"Guided by his Nonna's gentle hand and unwavering passion, Giovanni learned the art of cooking not from textbooks or formal training but from the heart—a lesson in flavor, technique, and above all,\"),\n",
       " Document(metadata={'source': 'Data\\\\data2.txt'}, page_content=\"and above all, love. In his Nonna's kitchen, he discovered the magic of simple, honest food made with care and attention to detail—a philosophy that would become the cornerstone of his culinary\"),\n",
       " Document(metadata={'source': 'Data\\\\data2.txt'}, page_content='of his culinary identity.'),\n",
       " Document(metadata={'source': 'Data\\\\data2.txt'}, page_content='Chapter 2: A Journey Begins'),\n",
       " Document(metadata={'source': 'Data\\\\data2.txt'}, page_content='At the tender age of fifteen, Giovanni embarked on a culinary odyssey that would take him from the cobblestone streets of Naples to the bustling kitchens of Rome, Florence, and beyond. Driven by a'),\n",
       " Document(metadata={'source': 'Data\\\\data2.txt'}, page_content='beyond. Driven by a relentless thirst for knowledge and a burning passion for his craft, Giovanni immersed himself in the rich tapestry of Italian cuisine, absorbing the secrets of pasta-making,'),\n",
       " Document(metadata={'source': 'Data\\\\data2.txt'}, page_content='of pasta-making, sauce-simmering, and dough-kneading with unwavering dedication.'),\n",
       " Document(metadata={'source': 'Data\\\\data2.txt'}, page_content='Under the tutelage of master chefs and seasoned artisans, Giovanni honed his skills, refining his palate and expanding his culinary repertoire with each new experience. From the art of crafting'),\n",
       " Document(metadata={'source': 'Data\\\\data2.txt'}, page_content='the art of crafting perfect risotto to the delicate balance of flavors in a traditional ragù, Giovanni embraced the diversity and complexity of Italian cuisine, weaving together a tapestry of flavors'),\n",
       " Document(metadata={'source': 'Data\\\\data2.txt'}, page_content='tapestry of flavors and techniques that would later define his signature style.'),\n",
       " Document(metadata={'source': 'Data\\\\data2.txt'}, page_content='Chapter 3: The Birth of Bella Vista'),\n",
       " Document(metadata={'source': 'Data\\\\data2.txt'}, page_content='Armed with a vision and a burning passion to share the flavors of his homeland with the world, Giovanni set out to create Bella Vista—a culinary sanctuary where the soulful flavors of Italy could be'),\n",
       " Document(metadata={'source': 'Data\\\\data2.txt'}, page_content='of Italy could be experienced in all their glory. Nestled in the heart of a bustling city, Bella Vista quickly became a beacon of authenticity, drawing food lovers from far and wide with its'),\n",
       " Document(metadata={'source': 'Data\\\\data2.txt'}, page_content='and wide with its tantalizing aromas, warm hospitality, and unapologetically Italian ambiance.'),\n",
       " Document(metadata={'source': 'Data\\\\data2.txt'}, page_content=\"For Giovanni, Bella Vista wasn't just a restaurant—it was a labor of love, a tribute to his roots, and a testament to the power of food to bring people together. From the carefully curated menu to\"),\n",
       " Document(metadata={'source': 'Data\\\\data2.txt'}, page_content=\"curated menu to the warm, inviting atmosphere, every aspect of Bella Vista reflected Giovanni's unwavering commitment to excellence and his deep reverence for the culinary traditions that had shaped\"),\n",
       " Document(metadata={'source': 'Data\\\\data2.txt'}, page_content='that had shaped him.'),\n",
       " Document(metadata={'source': 'Data\\\\data2.txt'}, page_content='Chapter 4: The Art of Hospitality'),\n",
       " Document(metadata={'source': 'Data\\\\data2.txt'}, page_content=\"For Giovanni, hospitality isn't just about serving food; it's about creating an experience that nourishes the body, delights the senses, and touches the soul. From the moment guests step through the\"),\n",
       " Document(metadata={'source': 'Data\\\\data2.txt'}, page_content='step through the doors of Bella Vista, they are enveloped in a warm embrace of Italian hospitality, welcomed as family and invited to savor the simple pleasures of good food, great wine, and lively'),\n",
       " Document(metadata={'source': 'Data\\\\data2.txt'}, page_content='wine, and lively conversation.'),\n",
       " Document(metadata={'source': 'Data\\\\data2.txt'}, page_content=\"At Bella Vista, hospitality is more than just a job—it's a way of life, a philosophy that permeates every aspect of the dining experience. From the friendly smiles of the staff to the meticulous\"),\n",
       " Document(metadata={'source': 'Data\\\\data2.txt'}, page_content='to the meticulous attention to detail in every dish, Giovanni and his team strive to create an atmosphere of warmth, comfort, and joy, where guests can relax, unwind, and savor the moment.'),\n",
       " Document(metadata={'source': 'Data\\\\data2.txt'}, page_content='Chapter 5: The Culinary Visionary'),\n",
       " Document(metadata={'source': 'Data\\\\data2.txt'}, page_content='As the driving force behind Bella Vista, Giovanni is not content to simply rest on his laurels; he is constantly pushing the boundaries of Italian cuisine, exploring new flavors, techniques, and'),\n",
       " Document(metadata={'source': 'Data\\\\data2.txt'}, page_content=\"techniques, and ingredients to keep his menu fresh, exciting, and relevant. From seasonal specials inspired by the bounty of the earth to innovative reinterpretations of classic dishes, Giovanni's\"),\n",
       " Document(metadata={'source': 'Data\\\\data2.txt'}, page_content=\"dishes, Giovanni's culinary creations are a testament to his creativity, passion, and unwavering commitment to excellence.\"),\n",
       " Document(metadata={'source': 'Data\\\\data2.txt'}, page_content=\"For Giovanni, cooking is more than just a job—it's an art form, a creative expression of his love for food and his deep connection to his heritage. Whether he's experimenting with new flavor\"),\n",
       " Document(metadata={'source': 'Data\\\\data2.txt'}, page_content='with new flavor combinations or putting his own spin on traditional recipes, Giovanni approaches each dish with a sense of curiosity, creativity, and reverence for the ingredients that inspire him.'),\n",
       " Document(metadata={'source': 'Data\\\\data2.txt'}, page_content='Chapter 6: A Community of Food Lovers'),\n",
       " Document(metadata={'source': 'Data\\\\data2.txt'}, page_content='Beyond the walls of Bella Vista, Giovanni is deeply committed to giving back to the community that has embraced him with open arms. Whether through charitable events, culinary workshops, or'),\n",
       " Document(metadata={'source': 'Data\\\\data2.txt'}, page_content='workshops, or partnerships with local farmers and artisans, Giovanni is dedicated to supporting and nurturing the vibrant tapestry of food culture that thrives in his city, ensuring that future'),\n",
       " Document(metadata={'source': 'Data\\\\data2.txt'}, page_content='that future generations will continue to be inspired by the flavors, traditions, and spirit of Italy.'),\n",
       " Document(metadata={'source': 'Data\\\\data2.txt'}, page_content=\"For Giovanni, food isn't just about sustenance—it's about connection, community, and shared experiences. Whether he's hosting a cooking class for aspiring chefs or organizing a fundraiser for a local\"),\n",
       " Document(metadata={'source': 'Data\\\\data2.txt'}, page_content='for a local charity, Giovanni believes in the power of food to bring people together, bridge divides, and create lasting memories that transcend language, culture, and background.'),\n",
       " Document(metadata={'source': 'Data\\\\data2.txt'}, page_content='Chapter 7: Legacy of Love'),\n",
       " Document(metadata={'source': 'Data\\\\data2.txt'}, page_content='As Giovanni looks back on his journey from the streets of Naples to the helm of Bella Vista, he is filled with gratitude for the experiences, the mentors, and the moments that have shaped him into'),\n",
       " Document(metadata={'source': 'Data\\\\data2.txt'}, page_content=\"shaped him into the chef and the man he is today. But above all, Giovanni's greatest source of pride is the legacy he is building for his own family, passing down the traditions, the recipes, and the\"),\n",
       " Document(metadata={'source': 'Data\\\\data2.txt'}, page_content='recipes, and the values that have been cherished for generations, ensuring that the flame of Italian cuisine will continue to burn bright for years to come.'),\n",
       " Document(metadata={'source': 'Data\\\\data2.txt'}, page_content=\"For Giovanni, Bella Vista isn't just a restaurant—it's a legacy, a testament to his love for food, family, and the rich tapestry of Italian culture. Whether he's sharing a meal with loved ones or\"),\n",
       " Document(metadata={'source': 'Data\\\\data2.txt'}, page_content=\"with loved ones or serving guests at his restaurant, Giovanni's passion for cooking is a reflection of his deep-seated belief in the power of food to nourish the body, uplift the spirit, and bring\"),\n",
       " Document(metadata={'source': 'Data\\\\data2.txt'}, page_content=\"spirit, and bring people together in celebration of life's simple pleasures.\"),\n",
       " Document(metadata={'source': 'Data\\\\data3.txt'}, page_content='Introduction: Welcome to Bella Vista, where every dish is a love letter to the vibrant flavors, fresh ingredients, and time-honored traditions of Italian cuisine. At the heart of our culinary'),\n",
       " Document(metadata={'source': 'Data\\\\data3.txt'}, page_content='of our culinary philosophy lies a deep reverence for the simple yet sublime beauty of the Mediterranean diet, which celebrates the natural bounty of the land and sea, and the art of transforming'),\n",
       " Document(metadata={'source': 'Data\\\\data3.txt'}, page_content='art of transforming humble ingredients into extraordinary culinary creations. Join us as we embark on a gastronomic journey through the diverse regions of Italy, from the sun-drenched shores of'),\n",
       " Document(metadata={'source': 'Data\\\\data3.txt'}, page_content='shores of Sicily to the verdant hills of Tuscany, to discover the soul-stirring flavors that have captivated palates for centuries.'),\n",
       " Document(metadata={'source': 'Data\\\\data3.txt'}, page_content='Chapter 1: The Essence of Italian Cuisine Italian cuisine is a celebration of simplicity, freshness, and flavor, where every dish is a reflection of the land, the culture, and the people who create'),\n",
       " Document(metadata={'source': 'Data\\\\data3.txt'}, page_content='people who create it. At Bella Vista, we embrace this philosophy wholeheartedly, sourcing the finest seasonal ingredients from local farmers, fishermen, and artisans, and allowing their natural'),\n",
       " Document(metadata={'source': 'Data\\\\data3.txt'}, page_content='their natural flavors to shine through in every bite. From ripe tomatoes bursting with sun-ripened sweetness to fragrant basil leaves picked at the peak of freshness, our kitchen is a symphony of'),\n",
       " Document(metadata={'source': 'Data\\\\data3.txt'}, page_content='is a symphony of colors, aromas, and textures that pays homage to the rich culinary heritage of Italy.'),\n",
       " Document(metadata={'source': 'Data\\\\data3.txt'}, page_content='Chapter 2: The Heart of the Mediterranean At the heart of Italian cuisine lies the Mediterranean diet, a way of eating that emphasizes whole grains, fresh fruits and vegetables, lean proteins, and'),\n",
       " Document(metadata={'source': 'Data\\\\data3.txt'}, page_content='lean proteins, and healthy fats, all of which are abundant in the sun-drenched regions of southern Europe. Olive oil, the cornerstone of Mediterranean cooking, infuses our dishes with its golden hue'),\n",
       " Document(metadata={'source': 'Data\\\\data3.txt'}, page_content='with its golden hue and fruity flavor, while herbs like oregano, rosemary, and thyme add depth and complexity to our sauces and marinades. Seafood, another staple of the Mediterranean diet, features'),\n",
       " Document(metadata={'source': 'Data\\\\data3.txt'}, page_content='diet, features prominently on our menu, from delicate crudo plates adorned with citrus and herbs to hearty seafood stews simmered in rich tomato broth.'),\n",
       " Document(metadata={'source': 'Data\\\\data3.txt'}, page_content='Chapter 3: The Art of Pasta Making No discussion of Italian cuisine would be complete without paying homage to pasta, the beloved staple that has been nourishing Italians for centuries. At Bella'),\n",
       " Document(metadata={'source': 'Data\\\\data3.txt'}, page_content='centuries. At Bella Vista, we take pride in our pasta-making traditions, crafting each batch of dough with care and precision to achieve the perfect texture and flavor. From silky strands of'),\n",
       " Document(metadata={'source': 'Data\\\\data3.txt'}, page_content='silky strands of spaghetti to delicate ravioli parcels, our pasta dishes are a testament to the artistry and craftsmanship of our chefs, who draw inspiration from the diverse regions of Italy to'),\n",
       " Document(metadata={'source': 'Data\\\\data3.txt'}, page_content='regions of Italy to create dishes that are both timeless and innovative.'),\n",
       " Document(metadata={'source': 'Data\\\\data3.txt'}, page_content='Chapter 4: From Field to Fork At Bella Vista, we believe that the quality of our ingredients is paramount to the success of our dishes, which is why we go to great lengths to source the freshest,'),\n",
       " Document(metadata={'source': 'Data\\\\data3.txt'}, page_content='the freshest, most flavorful produce available. Our tomatoes are handpicked at the peak of ripeness from local farms, our cheeses are crafted with care by artisanal cheesemakers, and our meats are'),\n",
       " Document(metadata={'source': 'Data\\\\data3.txt'}, page_content='and our meats are sourced from trusted suppliers who share our commitment to quality and sustainability. By supporting local farmers and producers, we not only ensure the integrity of our ingredients'),\n",
       " Document(metadata={'source': 'Data\\\\data3.txt'}, page_content='of our ingredients but also contribute to the vibrant food culture that thrives in our community.'),\n",
       " Document(metadata={'source': 'Data\\\\data3.txt'}, page_content='Chapter 5: A Symphony of Flavors Italian cuisine is renowned for its bold and vibrant flavors, which are achieved through the careful balance of sweet, sour, salty, and savory elements. At Bella'),\n",
       " Document(metadata={'source': 'Data\\\\data3.txt'}, page_content='elements. At Bella Vista, our chefs draw on a rich palette of ingredients and seasonings to create dishes that are as satisfying as they are memorable. From the zesty tang of citrus and the peppery'),\n",
       " Document(metadata={'source': 'Data\\\\data3.txt'}, page_content='and the peppery bite of arugula to the umami richness of aged Parmesan and the subtle sweetness of roasted garlic, each component plays a vital role in creating dishes that are layered, complex, and'),\n",
       " Document(metadata={'source': 'Data\\\\data3.txt'}, page_content='complex, and utterly irresistible.'),\n",
       " Document(metadata={'source': 'Data\\\\data3.txt'}, page_content='Chapter 6: The Power of Tradition While we take pride in our culinary creativity and innovation, we also recognize the importance of honoring the time-honored traditions that have been passed down'),\n",
       " Document(metadata={'source': 'Data\\\\data3.txt'}, page_content='been passed down through generations of Italian cooks. At Bella Vista, we pay homage to these traditions by preserving classic recipes and techniques, from slow-simmered ragùs and hand-rolled gnocchi'),\n",
       " Document(metadata={'source': 'Data\\\\data3.txt'}, page_content='hand-rolled gnocchi to wood-fired pizzas and artisanal gelato. By staying true to our roots and embracing the wisdom of the past, we ensure that every dish we serve is a tribute to the rich culinary'),\n",
       " Document(metadata={'source': 'Data\\\\data3.txt'}, page_content='the rich culinary heritage of Italy.'),\n",
       " Document(metadata={'source': 'Data\\\\data3.txt'}, page_content=\"Chapter 7: A Feast for the Senses Italian cuisine is more than just food; it's a feast for the senses that engages sight, smell, taste, and touch in equal measure. At Bella Vista, we believe that\"),\n",
       " Document(metadata={'source': 'Data\\\\data3.txt'}, page_content='we believe that dining should be a multisensory experience that stimulates the senses and nourishes the soul. From the sizzle of garlic hitting hot olive oil to the aroma of freshly baked bread'),\n",
       " Document(metadata={'source': 'Data\\\\data3.txt'}, page_content='freshly baked bread wafting from the oven, every moment in our kitchen is infused with passion, creativity, and a deep appreciation for the art of cooking. Join us as we embark on a culinary journey'),\n",
       " Document(metadata={'source': 'Data\\\\data3.txt'}, page_content='a culinary journey that delights the senses and transports you to the sun-drenched shores of Italy.'),\n",
       " Document(metadata={'source': 'Data\\\\data3.txt'}, page_content=\"Chapter 8: The Joy of Sharing At Bella Vista, we believe that food has the power to bring people together, to forge connections, and to create lasting memories. Whether you're sharing a leisurely\"),\n",
       " Document(metadata={'source': 'Data\\\\data3.txt'}, page_content='sharing a leisurely meal with loved ones, savoring a romantic dinner for two, or simply enjoying a quiet moment of solitude, our dishes are meant to be shared, savored, and celebrated. Join us at'),\n",
       " Document(metadata={'source': 'Data\\\\data3.txt'}, page_content='Join us at Bella Vista, where every meal is an opportunity to come together, to break bread, and to revel in the simple pleasures of good food, good company, and the joy of shared experiences.')]"
      ]
     },
     "execution_count": 6,
     "metadata": {},
     "output_type": "execute_result"
    }
   ],
   "source": [
    "document"
   ]
  },
  {
   "cell_type": "code",
   "execution_count": null,
   "metadata": {},
   "outputs": [],
   "source": [
    "global_embeddings = [ embeddings.embed_query(txt) for txt in document]"
   ]
  },
  {
   "cell_type": "code",
   "execution_count": 9,
   "metadata": {},
   "outputs": [],
   "source": [
    "# running chromadb locally\n",
    "client = chromadb.HttpClient(host= \"localhost\", port= 8000)"
   ]
  },
  {
   "cell_type": "code",
   "execution_count": null,
   "metadata": {},
   "outputs": [],
   "source": [
    "collection = client.create_collection(name=\"rag_dataset_cosine\",metadata={\"hnsw:space\": \"cosine\"})"
   ]
  },
  {
   "cell_type": "code",
   "execution_count": 10,
   "metadata": {},
   "outputs": [],
   "source": [
    "# for already existing vector database\n",
    "update_db = client.get_collection(name=\"rag_dataset_cosine\")"
   ]
  },
  {
   "cell_type": "code",
   "execution_count": 11,
   "metadata": {},
   "outputs": [
    {
     "data": {
      "text/plain": [
       "[Collection(id=26d6926f-4f80-496b-9d25-7c89a8267861, name=rag_dataset_cosine),\n",
       " Collection(id=b8b75fe8-edd7-4520-913e-fd47db225a94, name=rag_dataset)]"
      ]
     },
     "execution_count": 11,
     "metadata": {},
     "output_type": "execute_result"
    }
   ],
   "source": [
    "client.list_collections()"
   ]
  },
  {
   "cell_type": "code",
   "execution_count": null,
   "metadata": {},
   "outputs": [],
   "source": [
    "client.get_collection('rag_dataset')"
   ]
  },
  {
   "cell_type": "code",
   "execution_count": null,
   "metadata": {},
   "outputs": [],
   "source": [
    "# for existing database\n",
    "collection = client.get_collection('rag_dataset')"
   ]
  },
  {
   "cell_type": "code",
   "execution_count": null,
   "metadata": {},
   "outputs": [],
   "source": [
    "def creating_unique_chunk_ids():\n",
    "    \n",
    "    last_index = 0\n",
    "    last_page_id = None\n",
    "    for doc in document:\n",
    "        source = doc.metadata.get('source')\n",
    "        page = doc.metadata.get('page')\n",
    "        current_page_id = f\"{source}:{page}\"\n",
    "        if current_page_id == last_page_id:\n",
    "            index += 1\n",
    "\n",
    "        else:\n",
    "            index = 0\n",
    "        \n",
    "        last_page_id = current_page_id\n",
    "        chunk_id = f\"{source}:{index}\"\n",
    "        doc.metadata[\"id\"] = chunk_id\n",
    "    return chunk_id"
   ]
  },
  {
   "cell_type": "code",
   "execution_count": null,
   "metadata": {},
   "outputs": [],
   "source": [
    "creating_unique_chunk_ids()"
   ]
  },
  {
   "cell_type": "code",
   "execution_count": null,
   "metadata": {},
   "outputs": [],
   "source": [
    "new_chunk_id = [chunk.metadata['id'] for chunk in document]"
   ]
  },
  {
   "cell_type": "code",
   "execution_count": 22,
   "metadata": {},
   "outputs": [
    {
     "data": {
      "text/plain": [
       "['Step into our Tuscan-inspired sanctuary, where the golden hues of sun-kissed landscapes and the earthy aromas of olive groves and vineyards set the stage for a memorable dining experience. Tuscany,',\n",
       " 'Tuscany, renowned for its breathtaking countryside and rich culinary heritage, offers a bounty of flavors and traditions to explore.',\n",
       " 'Begin your journey with an antipasto platter adorned with cured meats, aged cheeses, and marinated vegetables, reminiscent of leisurely gatherings under the Tuscan sun. Each bite tells a story of',\n",
       " 'tells a story of generations past, of farmers and artisans who have perfected their craft over centuries.',\n",
       " 'Indulge in classics like Ribollita, a hearty vegetable soup enriched with cannellini beans and Tuscan kale. This comforting dish, born out of frugality and resourcefulness, warms both body and soul,',\n",
       " 'both body and soul, offering a taste of Tuscan tradition with every spoonful.',\n",
       " 'Alternatively, savor the simplicity of Cacciucco, a rustic seafood stew brimming with the bounty of the Mediterranean. With its roots firmly planted in coastal communities, this dish celebrates the',\n",
       " \"dish celebrates the region's abundant seafood while paying homage to the fishermen who have sustained generations with their daily catch.\",\n",
       " 'As you dine, let the flavors of Tuscany transport you to a simpler time, where meals were savored slowly and each ingredient was cherished for its role in creating culinary magic. From the fields to',\n",
       " 'From the fields to the table, every aspect of Tuscan cuisine speaks to a deep connection to the land and a reverence for the ingredients that define it.',\n",
       " \"Soak in the essence of Tuscany as you sip on a glass of Chianti, the region's iconic red wine, and let the spirit of la dolce vita wash over you. At Bella Vista, our Tuscan-inspired menu invites you\",\n",
       " 'menu invites you to experience the true essence of Italian hospitality, where every dish is a celebration of tradition, flavor, and the timeless beauty of Tuscany.',\n",
       " 'Chapter 2: Flavors of Sicily',\n",
       " 'Transport yourself to the vibrant island of Sicily, where the mingling of diverse cultures has birthed a culinary landscape as bold and colorful as its landscapes. From the bustling markets of',\n",
       " 'bustling markets of Palermo to the sun-drenched shores of Taormina, Sicily offers a feast for the senses unlike any other.',\n",
       " 'Dive into a sea of flavors with Arancini, golden orbs of saffron-infused risotto stuffed with savory ragù and molten cheese. These indulgent delights, often enjoyed as street food or appetizers,',\n",
       " \"food or appetizers, showcase Sicily's love affair with rice and its penchant for bold, robust flavors.\",\n",
       " \"Alternatively, sample the delights of Caponata, a sweet and sour eggplant relish bursting with tomatoes, olives, and capers. This versatile dish, with its roots in Arab cuisine, reflects Sicily's\",\n",
       " \"reflects Sicily's rich history of culinary conquests, where each bite tells a story of cultural exchange and innovation.\",\n",
       " \"For mains, indulge in Pasta alla Norma, a Sicilian classic marrying silky eggplant, rich tomato sauce, and salty ricotta salata. Named after Bellini's famous opera, this dish is a tribute to Sicily's\",\n",
       " \"tribute to Sicily's artistic soul, where food and culture intertwine in a symphony of flavors.\",\n",
       " 'Alternatively, savor the robust flavors of Swordfish Involtini, tender fish rolls filled with breadcrumbs, pine nuts, and raisins, bathed in a fragrant tomato sauce. This dish, with its blend of',\n",
       " \"with its blend of sweet and savory elements, captures the essence of Sicily's coastal cuisine, where seafood reigns supreme.\",\n",
       " 'As you dine, let the flavors of Sicily transport you to a land of ancient ruins and vibrant cities, where the past and present collide in a kaleidoscope of flavor and tradition. At Bella Vista, our',\n",
       " 'At Bella Vista, our Sicilian-inspired menu invites you to experience the bold, colorful cuisine of this enchanting island, where every dish is a celebration of Sicilian spirit and hospitality.',\n",
       " 'Chapter 3: Venetian Elegance',\n",
       " \"Embrace the romance and charm of Venice with our menu inspired by the city's culinary heritage and maritime traditions. From the labyrinthine streets of the historic center to the tranquil waters of\",\n",
       " 'tranquil waters of the Grand Canal, Venice offers a feast for the senses unlike any other.',\n",
       " 'Start your culinary voyage with Cicchetti, bite-sized Venetian snacks bursting with flavor, from creamy bacalà mantecato to delicate baccalà fritters. These small but flavorful bites, often enjoyed',\n",
       " \"often enjoyed with a glass of local wine, showcase Venice's love affair with seafood and its talent for transforming simple ingredients into culinary masterpieces.\",\n",
       " 'For a taste of the sea, delve into Risotto al Nero di Seppia, a luxurious black squid ink risotto crowned with plump shrimp and tender calamari. This iconic Venetian dish, with its dramatic color and',\n",
       " \"dramatic color and rich, briny flavor, captures the essence of the city's maritime heritage, where seafood has always played a central role in the local cuisine.\",\n",
       " 'Alternatively, indulge in Risi e Bisi, a comforting risotto enriched with sweet peas and savory pancetta. This simple yet satisfying dish, often enjoyed during the spring months, celebrates the',\n",
       " \"celebrates the bounty of the Venetian lagoon and the region's rich agricultural heritage.\",\n",
       " 'Complete your Venetian feast with a decadent slice of Tiramisu, the quintessential Italian dessert that translates to \"pick me up.\" This heavenly confection, with its layers of espresso-soaked',\n",
       " 'of espresso-soaked ladyfingers, creamy mascarpone, and dusting of cocoa powder, is a fitting finale to a meal that lifts the spirits and satisfies the soul.',\n",
       " 'As you dine, let the flavors of Venice transport you to a city of timeless beauty and unparalleled elegance, where each dish is a testament to the ingenuity and creativity of Venetian cuisine. At',\n",
       " \"cuisine. At Bella Vista, our Venetian-inspired menu invites you to experience the magic of Venice, where every bite is a journey through the city's rich culinary heritage and maritime traditions.\",\n",
       " 'Chapter 4: Roman Revival',\n",
       " \"In the eternal city of Rome, ancient traditions blend seamlessly with modern flair, resulting in a culinary landscape that's as timeless as it is tantalizing. From the majestic ruins of the Colosseum\",\n",
       " 'of the Colosseum to the bustling streets of Trastevere, Rome offers a feast for the senses unlike any other.',\n",
       " \"Begin your Roman odyssey with Supplì al Telefono, golden rice croquettes oozing with molten mozzarella. These irresistible snacks, often enjoyed as street food or appetizers, showcase Rome's love\",\n",
       " \"Rome's love affair with rice and its talent for transforming humble ingredients into culinary delights.\",\n",
       " 'Alternatively, savor the simplicity of Carciofi alla Romana, tender artichokes simmered in fragrant herbs and olive oil. This classic Roman dish, with its delicate flavors and melt-in-your-mouth',\n",
       " \"melt-in-your-mouth texture, is a testament to the city's rich culinary heritage and its love affair with fresh, seasonal produce.\",\n",
       " 'For a taste of la dolce vita, feast on Cacio e Pepe, a decadent pasta dish featuring al dente spaghetti coated in a velvety sauce of Pecorino Romano and black pepper. This iconic Roman dish, with its',\n",
       " 'dish, with its bold flavors and comforting simplicity, captures the essence of Roman cuisine, where the beauty lies in the purity of the ingredients and the skill of the chef.',\n",
       " 'Alternatively, indulge in Saltimbocca alla Romana, tender veal cutlets wrapped in prosciutto and sage, sautéed to perfection in a white wine sauce. This iconic Roman dish, with its bold flavors and',\n",
       " \"bold flavors and elegant presentation, is a testament to the city's rich culinary heritage and its love affair with the art of cooking.\",\n",
       " 'As you dine, let the flavors of Rome transport you to a city of ancient wonders and modern marvels, where each dish is a celebration of tradition, flavor, and the eternal spirit of la dolce vita. At',\n",
       " \"la dolce vita. At Bella Vista, our Roman-inspired menu invites you to experience the magic of Rome, where every bite is a journey through the city's rich culinary heritage and timeless traditions.\",\n",
       " 'Chapter 5: Neapolitan Soul',\n",
       " 'Journey to the sun-drenched shores of Naples, where the air is filled with the intoxicating scent of wood-fired pizzas and the joyful strains of Neapolitan melodies. From the bustling streets of',\n",
       " 'bustling streets of Spaccanapoli to the tranquil waters of the Bay of Naples, Naples offers a feast for the senses unlike any other.',\n",
       " 'Begin your culinary escapade with a selection of Antipasti Napoletani, featuring delights like fried calamari, stuffed peppers, and marinated anchovies. These vibrant and flavorful starters, often',\n",
       " \"starters, often enjoyed with a glass of local wine, showcase Naples' love affair with seafood and its talent for transforming simple ingredients into culinary masterpieces.\",\n",
       " 'For mains, delight your palate with Pizza Margherita, the iconic Neapolitan pie adorned with vibrant tomatoes, creamy mozzarella, and fragrant basil. This classic Neapolitan dish, with its crispy',\n",
       " \"with its crispy crust and melty cheese, captures the essence of Naples' culinary heritage and its love affair with pizza.\",\n",
       " 'Alternatively, indulge in Spaghetti alla Puttanesca, a fiery pasta dish bursting with the bold flavors of olives, capers, and anchovies. This iconic Neapolitan dish, with its robust flavors and',\n",
       " \"robust flavors and vibrant colors, is a testament to the city's rich culinary heritage and its love affair with bold, Mediterranean flavors.\",\n",
       " 'End your meal on a sweet note with a slice of Pastiera Napoletana, a heavenly ricotta and wheat pie perfumed with orange blossom water and adorned with candied citrus. This iconic Neapolitan dessert,',\n",
       " 'Neapolitan dessert, with its delicate flavors and rich textures, is a fitting finale to a meal that celebrates the soulful flavors of Naples.',\n",
       " 'As you dine, let the flavors of Naples transport you to a city of vibrant colors and rich flavors, where each dish is a celebration of tradition, flavor, and the soulful spirit of Neapolitan cuisine.',\n",
       " \"Neapolitan cuisine. At Bella Vista, our Neapolitan-inspired menu invites you to experience the magic of Naples, where every bite is a journey through the city's rich culinary heritage and joyful\",\n",
       " 'heritage and joyful traditions.',\n",
       " 'In the bustling streets of Naples, where the aroma of freshly baked pizza mingles with the salty breeze of the Mediterranean, Giovanni Di Napoli was born into a world steeped in culinary tradition.',\n",
       " \"culinary tradition. From an early age, Giovanni's passion for food was ignited by his Nonna Rosa, whose rustic kitchen served as the heart of their family gatherings, filled with laughter, love, and\",\n",
       " 'laughter, love, and the irresistible scent of simmering sauces.',\n",
       " \"Giovanni's upbringing was deeply rooted in the rich tapestry of Neapolitan culture, where food wasn't merely sustenance but a sacred ritual—a celebration of life itself. His Nonna's culinary prowess,\",\n",
       " 'culinary prowess, coupled with the vibrant markets of Naples, instilled in him a profound appreciation for fresh, locally sourced ingredients and the time-honored techniques that transformed them',\n",
       " 'transformed them into culinary masterpieces.',\n",
       " 'Chapter 1: Roots of Inspiration',\n",
       " \"Born into a family of artisans and craftsmen, Giovanni's childhood was a symphony of sights, sounds, and flavors—a vibrant mosaic of Neapolitan culture that shaped his culinary journey from the very\",\n",
       " \"from the very beginning. From helping his Nonna knead dough for homemade pasta to accompanying his Nonno to the bustling markets of Naples, Giovanni's early years were steeped in the traditions and\",\n",
       " 'the traditions and rituals that would later define his approach to cooking.',\n",
       " \"Guided by his Nonna's gentle hand and unwavering passion, Giovanni learned the art of cooking not from textbooks or formal training but from the heart—a lesson in flavor, technique, and above all,\",\n",
       " \"and above all, love. In his Nonna's kitchen, he discovered the magic of simple, honest food made with care and attention to detail—a philosophy that would become the cornerstone of his culinary\",\n",
       " 'of his culinary identity.',\n",
       " 'Chapter 2: A Journey Begins',\n",
       " 'At the tender age of fifteen, Giovanni embarked on a culinary odyssey that would take him from the cobblestone streets of Naples to the bustling kitchens of Rome, Florence, and beyond. Driven by a',\n",
       " 'beyond. Driven by a relentless thirst for knowledge and a burning passion for his craft, Giovanni immersed himself in the rich tapestry of Italian cuisine, absorbing the secrets of pasta-making,',\n",
       " 'of pasta-making, sauce-simmering, and dough-kneading with unwavering dedication.',\n",
       " 'Under the tutelage of master chefs and seasoned artisans, Giovanni honed his skills, refining his palate and expanding his culinary repertoire with each new experience. From the art of crafting',\n",
       " 'the art of crafting perfect risotto to the delicate balance of flavors in a traditional ragù, Giovanni embraced the diversity and complexity of Italian cuisine, weaving together a tapestry of flavors',\n",
       " 'tapestry of flavors and techniques that would later define his signature style.',\n",
       " 'Chapter 3: The Birth of Bella Vista',\n",
       " 'Armed with a vision and a burning passion to share the flavors of his homeland with the world, Giovanni set out to create Bella Vista—a culinary sanctuary where the soulful flavors of Italy could be',\n",
       " 'of Italy could be experienced in all their glory. Nestled in the heart of a bustling city, Bella Vista quickly became a beacon of authenticity, drawing food lovers from far and wide with its',\n",
       " 'and wide with its tantalizing aromas, warm hospitality, and unapologetically Italian ambiance.',\n",
       " \"For Giovanni, Bella Vista wasn't just a restaurant—it was a labor of love, a tribute to his roots, and a testament to the power of food to bring people together. From the carefully curated menu to\",\n",
       " \"curated menu to the warm, inviting atmosphere, every aspect of Bella Vista reflected Giovanni's unwavering commitment to excellence and his deep reverence for the culinary traditions that had shaped\",\n",
       " 'that had shaped him.',\n",
       " 'Chapter 4: The Art of Hospitality',\n",
       " \"For Giovanni, hospitality isn't just about serving food; it's about creating an experience that nourishes the body, delights the senses, and touches the soul. From the moment guests step through the\",\n",
       " 'step through the doors of Bella Vista, they are enveloped in a warm embrace of Italian hospitality, welcomed as family and invited to savor the simple pleasures of good food, great wine, and lively',\n",
       " 'wine, and lively conversation.',\n",
       " \"At Bella Vista, hospitality is more than just a job—it's a way of life, a philosophy that permeates every aspect of the dining experience. From the friendly smiles of the staff to the meticulous\",\n",
       " 'to the meticulous attention to detail in every dish, Giovanni and his team strive to create an atmosphere of warmth, comfort, and joy, where guests can relax, unwind, and savor the moment.',\n",
       " 'Chapter 5: The Culinary Visionary',\n",
       " 'As the driving force behind Bella Vista, Giovanni is not content to simply rest on his laurels; he is constantly pushing the boundaries of Italian cuisine, exploring new flavors, techniques, and',\n",
       " \"techniques, and ingredients to keep his menu fresh, exciting, and relevant. From seasonal specials inspired by the bounty of the earth to innovative reinterpretations of classic dishes, Giovanni's\",\n",
       " \"dishes, Giovanni's culinary creations are a testament to his creativity, passion, and unwavering commitment to excellence.\",\n",
       " \"For Giovanni, cooking is more than just a job—it's an art form, a creative expression of his love for food and his deep connection to his heritage. Whether he's experimenting with new flavor\",\n",
       " 'with new flavor combinations or putting his own spin on traditional recipes, Giovanni approaches each dish with a sense of curiosity, creativity, and reverence for the ingredients that inspire him.',\n",
       " 'Chapter 6: A Community of Food Lovers',\n",
       " 'Beyond the walls of Bella Vista, Giovanni is deeply committed to giving back to the community that has embraced him with open arms. Whether through charitable events, culinary workshops, or',\n",
       " 'workshops, or partnerships with local farmers and artisans, Giovanni is dedicated to supporting and nurturing the vibrant tapestry of food culture that thrives in his city, ensuring that future',\n",
       " 'that future generations will continue to be inspired by the flavors, traditions, and spirit of Italy.',\n",
       " \"For Giovanni, food isn't just about sustenance—it's about connection, community, and shared experiences. Whether he's hosting a cooking class for aspiring chefs or organizing a fundraiser for a local\",\n",
       " 'for a local charity, Giovanni believes in the power of food to bring people together, bridge divides, and create lasting memories that transcend language, culture, and background.',\n",
       " 'Chapter 7: Legacy of Love',\n",
       " 'As Giovanni looks back on his journey from the streets of Naples to the helm of Bella Vista, he is filled with gratitude for the experiences, the mentors, and the moments that have shaped him into',\n",
       " \"shaped him into the chef and the man he is today. But above all, Giovanni's greatest source of pride is the legacy he is building for his own family, passing down the traditions, the recipes, and the\",\n",
       " 'recipes, and the values that have been cherished for generations, ensuring that the flame of Italian cuisine will continue to burn bright for years to come.',\n",
       " \"For Giovanni, Bella Vista isn't just a restaurant—it's a legacy, a testament to his love for food, family, and the rich tapestry of Italian culture. Whether he's sharing a meal with loved ones or\",\n",
       " \"with loved ones or serving guests at his restaurant, Giovanni's passion for cooking is a reflection of his deep-seated belief in the power of food to nourish the body, uplift the spirit, and bring\",\n",
       " \"spirit, and bring people together in celebration of life's simple pleasures.\",\n",
       " 'Introduction: Welcome to Bella Vista, where every dish is a love letter to the vibrant flavors, fresh ingredients, and time-honored traditions of Italian cuisine. At the heart of our culinary',\n",
       " 'of our culinary philosophy lies a deep reverence for the simple yet sublime beauty of the Mediterranean diet, which celebrates the natural bounty of the land and sea, and the art of transforming',\n",
       " 'art of transforming humble ingredients into extraordinary culinary creations. Join us as we embark on a gastronomic journey through the diverse regions of Italy, from the sun-drenched shores of',\n",
       " 'shores of Sicily to the verdant hills of Tuscany, to discover the soul-stirring flavors that have captivated palates for centuries.',\n",
       " 'Chapter 1: The Essence of Italian Cuisine Italian cuisine is a celebration of simplicity, freshness, and flavor, where every dish is a reflection of the land, the culture, and the people who create',\n",
       " 'people who create it. At Bella Vista, we embrace this philosophy wholeheartedly, sourcing the finest seasonal ingredients from local farmers, fishermen, and artisans, and allowing their natural',\n",
       " 'their natural flavors to shine through in every bite. From ripe tomatoes bursting with sun-ripened sweetness to fragrant basil leaves picked at the peak of freshness, our kitchen is a symphony of',\n",
       " 'is a symphony of colors, aromas, and textures that pays homage to the rich culinary heritage of Italy.',\n",
       " 'Chapter 2: The Heart of the Mediterranean At the heart of Italian cuisine lies the Mediterranean diet, a way of eating that emphasizes whole grains, fresh fruits and vegetables, lean proteins, and',\n",
       " 'lean proteins, and healthy fats, all of which are abundant in the sun-drenched regions of southern Europe. Olive oil, the cornerstone of Mediterranean cooking, infuses our dishes with its golden hue',\n",
       " 'with its golden hue and fruity flavor, while herbs like oregano, rosemary, and thyme add depth and complexity to our sauces and marinades. Seafood, another staple of the Mediterranean diet, features',\n",
       " 'diet, features prominently on our menu, from delicate crudo plates adorned with citrus and herbs to hearty seafood stews simmered in rich tomato broth.',\n",
       " 'Chapter 3: The Art of Pasta Making No discussion of Italian cuisine would be complete without paying homage to pasta, the beloved staple that has been nourishing Italians for centuries. At Bella',\n",
       " 'centuries. At Bella Vista, we take pride in our pasta-making traditions, crafting each batch of dough with care and precision to achieve the perfect texture and flavor. From silky strands of',\n",
       " 'silky strands of spaghetti to delicate ravioli parcels, our pasta dishes are a testament to the artistry and craftsmanship of our chefs, who draw inspiration from the diverse regions of Italy to',\n",
       " 'regions of Italy to create dishes that are both timeless and innovative.',\n",
       " 'Chapter 4: From Field to Fork At Bella Vista, we believe that the quality of our ingredients is paramount to the success of our dishes, which is why we go to great lengths to source the freshest,',\n",
       " 'the freshest, most flavorful produce available. Our tomatoes are handpicked at the peak of ripeness from local farms, our cheeses are crafted with care by artisanal cheesemakers, and our meats are',\n",
       " 'and our meats are sourced from trusted suppliers who share our commitment to quality and sustainability. By supporting local farmers and producers, we not only ensure the integrity of our ingredients',\n",
       " 'of our ingredients but also contribute to the vibrant food culture that thrives in our community.',\n",
       " 'Chapter 5: A Symphony of Flavors Italian cuisine is renowned for its bold and vibrant flavors, which are achieved through the careful balance of sweet, sour, salty, and savory elements. At Bella',\n",
       " 'elements. At Bella Vista, our chefs draw on a rich palette of ingredients and seasonings to create dishes that are as satisfying as they are memorable. From the zesty tang of citrus and the peppery',\n",
       " 'and the peppery bite of arugula to the umami richness of aged Parmesan and the subtle sweetness of roasted garlic, each component plays a vital role in creating dishes that are layered, complex, and',\n",
       " 'complex, and utterly irresistible.',\n",
       " 'Chapter 6: The Power of Tradition While we take pride in our culinary creativity and innovation, we also recognize the importance of honoring the time-honored traditions that have been passed down',\n",
       " 'been passed down through generations of Italian cooks. At Bella Vista, we pay homage to these traditions by preserving classic recipes and techniques, from slow-simmered ragùs and hand-rolled gnocchi',\n",
       " 'hand-rolled gnocchi to wood-fired pizzas and artisanal gelato. By staying true to our roots and embracing the wisdom of the past, we ensure that every dish we serve is a tribute to the rich culinary',\n",
       " 'the rich culinary heritage of Italy.',\n",
       " \"Chapter 7: A Feast for the Senses Italian cuisine is more than just food; it's a feast for the senses that engages sight, smell, taste, and touch in equal measure. At Bella Vista, we believe that\",\n",
       " 'we believe that dining should be a multisensory experience that stimulates the senses and nourishes the soul. From the sizzle of garlic hitting hot olive oil to the aroma of freshly baked bread',\n",
       " 'freshly baked bread wafting from the oven, every moment in our kitchen is infused with passion, creativity, and a deep appreciation for the art of cooking. Join us as we embark on a culinary journey',\n",
       " 'a culinary journey that delights the senses and transports you to the sun-drenched shores of Italy.',\n",
       " \"Chapter 8: The Joy of Sharing At Bella Vista, we believe that food has the power to bring people together, to forge connections, and to create lasting memories. Whether you're sharing a leisurely\",\n",
       " 'sharing a leisurely meal with loved ones, savoring a romantic dinner for two, or simply enjoying a quiet moment of solitude, our dishes are meant to be shared, savored, and celebrated. Join us at',\n",
       " 'Join us at Bella Vista, where every meal is an opportunity to come together, to break bread, and to revel in the simple pleasures of good food, good company, and the joy of shared experiences.']"
      ]
     },
     "execution_count": 22,
     "metadata": {},
     "output_type": "execute_result"
    }
   ],
   "source": [
    "page_content = [page.page_content for page in document]\n",
    "page_content"
   ]
  },
  {
   "cell_type": "code",
   "execution_count": null,
   "metadata": {},
   "outputs": [],
   "source": [
    "collection.add(documents= page_content, ids= new_chunk_id,embeddings = global_embeddings)"
   ]
  },
  {
   "cell_type": "code",
   "execution_count": null,
   "metadata": {},
   "outputs": [],
   "source": []
  },
  {
   "cell_type": "code",
   "execution_count": null,
   "metadata": {},
   "outputs": [],
   "source": [
    "collection.peek()"
   ]
  },
  {
   "cell_type": "code",
   "execution_count": null,
   "metadata": {},
   "outputs": [],
   "source": [
    "embedded_querry = embeddings.embed_query(\"who crowned with plump shrimp and tender calamari\")"
   ]
  },
  {
   "cell_type": "code",
   "execution_count": null,
   "metadata": {},
   "outputs": [],
   "source": [
    "querry_text = \"who crowned with plump shrimp and tender calamari\""
   ]
  },
  {
   "cell_type": "code",
   "execution_count": null,
   "metadata": {},
   "outputs": [],
   "source": [
    "res = collection.query(embedded_querry,n_results=5,\n",
    "            include=['distances','embeddings', 'documents', 'metadatas'])"
   ]
  },
  {
   "cell_type": "code",
   "execution_count": null,
   "metadata": {},
   "outputs": [],
   "source": [
    "PROMPT_TEMPLATE = \"\"\"\n",
    "Answer the question based only on the following context:\n",
    "\n",
    "{context}\n",
    "\n",
    "---\n",
    "\n",
    "Answer the question based on the above context: {question}\n",
    "\"\"\""
   ]
  },
  {
   "cell_type": "code",
   "execution_count": null,
   "metadata": {},
   "outputs": [],
   "source": [
    "context_text = \"\\n\\n---\\n\\n\".join([doc for doc in res['documents'][0]])"
   ]
  },
  {
   "cell_type": "code",
   "execution_count": null,
   "metadata": {},
   "outputs": [],
   "source": [
    "prompt_template = ChatPromptTemplate.from_template(PROMPT_TEMPLATE)\n",
    "prompt = prompt_template.format(context=context_text, question=querry_text)"
   ]
  },
  {
   "cell_type": "code",
   "execution_count": null,
   "metadata": {},
   "outputs": [],
   "source": [
    "print(prompt)"
   ]
  },
  {
   "cell_type": "code",
   "execution_count": null,
   "metadata": {},
   "outputs": [],
   "source": [
    "model = Ollama(model=\"llama3.1\")\n",
    "response_text = model.invoke(prompt)"
   ]
  },
  {
   "cell_type": "code",
   "execution_count": null,
   "metadata": {},
   "outputs": [],
   "source": [
    "response_text"
   ]
  },
  {
   "cell_type": "code",
   "execution_count": null,
   "metadata": {},
   "outputs": [],
   "source": []
  },
  {
   "cell_type": "markdown",
   "metadata": {},
   "source": [
    "## Building chatbot\n"
   ]
  },
  {
   "cell_type": "code",
   "execution_count": 12,
   "metadata": {},
   "outputs": [
    {
     "name": "stderr",
     "output_type": "stream",
     "text": [
      "c:\\Users\\ADMIN\\AppData\\Local\\Programs\\Python\\Python310\\lib\\site-packages\\tqdm\\auto.py:21: TqdmWarning: IProgress not found. Please update jupyter and ipywidgets. See https://ipywidgets.readthedocs.io/en/stable/user_install.html\n",
      "  from .autonotebook import tqdm as notebook_tqdm\n"
     ]
    }
   ],
   "source": [
    "import gradio as gr"
   ]
  },
  {
   "cell_type": "code",
   "execution_count": 20,
   "metadata": {},
   "outputs": [],
   "source": [
    "def chatfunction(text_box,history):\n",
    "    querry_text = text_box\n",
    "    embedded_querry = embeddings.embed_query(text_box)\n",
    "    collection = client.get_collection(name=\"rag_dataset_cosine\")\n",
    "    res = collection.query(embedded_querry,n_results=5,\n",
    "            include=['distances','embeddings', 'documents', 'metadatas'])\n",
    "    PROMPT_TEMPLATE = \"\"\"\n",
    "    Answer the question based only on the following context:\n",
    "\n",
    "    {context}\n",
    "\n",
    "    ---\n",
    "\n",
    "    Answer the question based on the above context: {question}\n",
    "    \"\"\"\n",
    "    context_text = \"\\n\\n---\\n\\n\".join([doc for doc in res['documents'][0]])\n",
    "    prompt_template = ChatPromptTemplate.from_template(PROMPT_TEMPLATE)\n",
    "    prompt_ = prompt_template.format(context=context_text, question=querry_text)\n",
    "    model = Ollama(model=\"llama3.1\")\n",
    "    response_text = model.invoke(prompt_)\n",
    "\n",
    "    return response_text\n",
    "    \n",
    "    \n",
    "    "
   ]
  },
  {
   "cell_type": "code",
   "execution_count": 21,
   "metadata": {},
   "outputs": [
    {
     "name": "stdout",
     "output_type": "stream",
     "text": [
      "Running on local URL:  http://127.0.0.1:7873\n",
      "\n",
      "To create a public link, set `share=True` in `launch()`.\n"
     ]
    },
    {
     "data": {
      "text/html": [
       "<div><iframe src=\"http://127.0.0.1:7873/\" width=\"100%\" height=\"500\" allow=\"autoplay; camera; microphone; clipboard-read; clipboard-write;\" frameborder=\"0\" allowfullscreen></iframe></div>"
      ],
      "text/plain": [
       "<IPython.core.display.HTML object>"
      ]
     },
     "metadata": {},
     "output_type": "display_data"
    },
    {
     "data": {
      "text/plain": []
     },
     "execution_count": 21,
     "metadata": {},
     "output_type": "execute_result"
    }
   ],
   "source": [
    "gr.ChatInterface(fn =chatfunction, textbox= gr.Textbox(placeholder= \" enter message here\"),\n",
    "                 chatbot= gr.Chatbot()).launch()"
   ]
  }
 ],
 "metadata": {
  "kernelspec": {
   "display_name": "Python 3",
   "language": "python",
   "name": "python3"
  },
  "language_info": {
   "codemirror_mode": {
    "name": "ipython",
    "version": 3
   },
   "file_extension": ".py",
   "mimetype": "text/x-python",
   "name": "python",
   "nbconvert_exporter": "python",
   "pygments_lexer": "ipython3",
   "version": "3.10.0"
  }
 },
 "nbformat": 4,
 "nbformat_minor": 2
}
